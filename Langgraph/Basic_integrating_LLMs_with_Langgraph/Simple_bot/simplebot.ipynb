{
 "cells": [
  {
   "cell_type": "code",
   "execution_count": 46,
   "id": "1dc16115-2136-40b4-acb6-97e32c63c5d4",
   "metadata": {},
   "outputs": [],
   "source": [
    "from langgraph.graph import StateGraph , START , END\n",
    "from typing import TypedDict,List"
   ]
  },
  {
   "cell_type": "code",
   "execution_count": 39,
   "id": "18767da8-2c7f-4c7e-a58a-4a6f06088dab",
   "metadata": {},
   "outputs": [],
   "source": [
    "from langchain_core.messages import HumanMessage\n",
    "from langchain_openai import ChatOpenAI"
   ]
  },
  {
   "cell_type": "code",
   "execution_count": 44,
   "id": "dc629547-6f04-490f-b692-7b7a78027910",
   "metadata": {},
   "outputs": [
    {
     "name": "stdout",
     "output_type": "stream",
     "text": [
      "AI systems learn patterns from data, using algorithms to make predictions or decisions, mimicking human intelligence.\n",
      "\n"
     ]
    }
   ],
   "source": [
    "import os\n",
    "from dotenv import load_dotenv\n",
    "import google.generativeai as genai\n",
    "\n",
    "# Load from .env file\n",
    "load_dotenv()\n",
    "\n",
    "# Get the actual value\n",
    "api_key = os.getenv(\"GEMENI_API_KEY\")\n",
    "\n",
    "# Configure Gemini\n",
    "genai.configure(api_key=api_key)\n",
    "\n",
    "# Create model\n",
    "llm = genai.GenerativeModel(\"gemini-1.5-flash\")\n",
    "\n",
    "# Call the model\n",
    "response = model.generate_content(\"Explain how AI works in a 30 few words.\")\n",
    "print(response.text)\n"
   ]
  },
  {
   "cell_type": "code",
   "execution_count": 47,
   "id": "9516db18-a37e-47f5-b9ed-67fe62f1afb4",
   "metadata": {},
   "outputs": [],
   "source": [
    "class AgentState(TypedDict):\n",
    "    messages : List[HumanMessage]"
   ]
  },
  {
   "cell_type": "code",
   "execution_count": 49,
   "id": "5d947d7e-7751-40c2-b591-28c2ddb7674a",
   "metadata": {},
   "outputs": [],
   "source": [
    "def process(state:AgentState)->AgentState:\n",
    "    response = model.generate_content(state['messages'])\n",
    "    print(f\"\\n Ai :{response.text}\")\n",
    "    return state"
   ]
  },
  {
   "cell_type": "code",
   "execution_count": 50,
   "id": "08ac9981-a70d-48f2-86d3-33c34622d422",
   "metadata": {},
   "outputs": [],
   "source": [
    "graph = StateGraph(AgentState)\n",
    "\n",
    "graph.add_node(\"processor\",process)\n",
    "graph.add_edge(START,\"processor\")\n",
    "graph.add_edge(\"processor\",END)\n",
    "\n",
    "app = graph.compile()"
   ]
  },
  {
   "cell_type": "code",
   "execution_count": 59,
   "id": "cd92d49b-9811-4d18-9708-ccf908556929",
   "metadata": {},
   "outputs": [
    {
     "name": "stdin",
     "output_type": "stream",
     "text": [
      "You:  hi\n"
     ]
    },
    {
     "name": "stdout",
     "output_type": "stream",
     "text": [
      "\n",
      " Ai :Hi there! How can I help you today?\n",
      "\n"
     ]
    },
    {
     "name": "stdin",
     "output_type": "stream",
     "text": [
      "You:  who are you which model\n"
     ]
    },
    {
     "name": "stdout",
     "output_type": "stream",
     "text": [
      "\n",
      " Ai :I am a large language model, trained by Google.\n",
      "\n"
     ]
    },
    {
     "name": "stdin",
     "output_type": "stream",
     "text": [
      "You:  i am bob\n"
     ]
    },
    {
     "name": "stdout",
     "output_type": "stream",
     "text": [
      "\n",
      " Ai :Hello Bob!  How can I help you today?\n",
      "\n"
     ]
    },
    {
     "name": "stdin",
     "output_type": "stream",
     "text": [
      "You:  who ami i\n"
     ]
    },
    {
     "name": "stdout",
     "output_type": "stream",
     "text": [
      "\n",
      " Ai :You are a large language model, trained by Google.\n",
      "\n"
     ]
    },
    {
     "name": "stdin",
     "output_type": "stream",
     "text": [
      "You:  who i am\n"
     ]
    },
    {
     "name": "stdout",
     "output_type": "stream",
     "text": [
      "\n",
      " Ai :You are a large language model, trained by Google.\n",
      "\n"
     ]
    },
    {
     "name": "stdin",
     "output_type": "stream",
     "text": [
      "You:  brother me me who am i \n"
     ]
    },
    {
     "name": "stdout",
     "output_type": "stream",
     "text": [
      "\n",
      " Ai :You are asking a question to your brother, indicating a sibling relationship.  Therefore, you are your brother's sibling.  More specifically, you are his **sister**.\n",
      "\n"
     ]
    },
    {
     "name": "stdin",
     "output_type": "stream",
     "text": [
      "You:  exi\n"
     ]
    },
    {
     "name": "stdout",
     "output_type": "stream",
     "text": [
      "\n",
      " Ai :Did you mean \"exist\"?  If so, please provide me with some context so I can help you further.  For example, do you want to know if something exists, or are you looking for a definition?\n",
      "\n"
     ]
    },
    {
     "name": "stdin",
     "output_type": "stream",
     "text": [
      "You:  exit\n"
     ]
    },
    {
     "name": "stdout",
     "output_type": "stream",
     "text": [
      "Goodbye!\n"
     ]
    }
   ],
   "source": [
    "while True:\n",
    "    user_input = input(\"You: \")\n",
    "\n",
    "    if user_input.lower() == \"exit\":\n",
    "        print(\"Goodbye!\")\n",
    "        break\n",
    "\n",
    "    result = app.invoke({\n",
    "        \"messages\": user_input\n",
    "    })\n"
   ]
  },
  {
   "cell_type": "code",
   "execution_count": null,
   "id": "1a8b03a2-5279-49ff-ab27-8e6b618bf679",
   "metadata": {},
   "outputs": [],
   "source": []
  }
 ],
 "metadata": {
  "kernelspec": {
   "display_name": "Python 3 (ipykernel)",
   "language": "python",
   "name": "python3"
  },
  "language_info": {
   "codemirror_mode": {
    "name": "ipython",
    "version": 3
   },
   "file_extension": ".py",
   "mimetype": "text/x-python",
   "name": "python",
   "nbconvert_exporter": "python",
   "pygments_lexer": "ipython3",
   "version": "3.11.7"
  }
 },
 "nbformat": 4,
 "nbformat_minor": 5
}
