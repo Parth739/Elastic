{
 "cells": [
  {
   "cell_type": "markdown",
   "metadata": {},
   "source": [
    "### Basic Analogies\n",
    "States: Shared memory the agent carries through the steps (like the user’s query, expert results, etc.)\n",
    "\n",
    "Nodes: Each step in the process (e.g. call LLM, search DB)\n",
    "\n",
    "Edges: The path from one step to the next\n",
    "\n",
    "Entry point: Where the agent starts\n",
    "\n",
    "END: Where the task finishes\n",
    "\n",
    "It helps us to design and manage the flow of tasks in our application \n",
    "simply - StateGraph helps you build a smart flowchart for your AI agent"
   ]
  },
  {
   "cell_type": "code",
   "execution_count": 1,
   "metadata": {
    "_cell_guid": "b1076dfc-b9ad-4769-8c92-a6c4dae69d19",
    "_uuid": "8f2839f25d086af736a60e9eeb907d3b93b6e0e5",
    "execution": {
     "iopub.execute_input": "2025-07-02T07:04:22.130271Z",
     "iopub.status.busy": "2025-07-02T07:04:22.129982Z",
     "iopub.status.idle": "2025-07-02T07:04:22.136818Z",
     "shell.execute_reply": "2025-07-02T07:04:22.135909Z",
     "shell.execute_reply.started": "2025-07-02T07:04:22.130243Z"
    }
   },
   "outputs": [],
   "source": [
    "# Creating a basic HELLO Agent\n",
    "\n",
    "        #############\n",
    "        #   Start   #\n",
    "        #############\n",
    "              |\n",
    "        #############\n",
    "        #   Node    #\n",
    "        #############\n",
    "              |\n",
    "        #############\n",
    "        #    End    #\n",
    "        #############"
   ]
  },
  {
   "cell_type": "code",
   "execution_count": null,
   "metadata": {},
   "outputs": [],
   "source": [
    "!pip install langgraph"
   ]
  },
  {
   "cell_type": "code",
   "execution_count": 6,
   "metadata": {
    "execution": {
     "iopub.execute_input": "2025-07-02T07:14:37.749895Z",
     "iopub.status.busy": "2025-07-02T07:14:37.749352Z",
     "iopub.status.idle": "2025-07-02T07:14:37.755789Z",
     "shell.execute_reply": "2025-07-02T07:14:37.754371Z",
     "shell.execute_reply.started": "2025-07-02T07:14:37.749870Z"
    }
   },
   "outputs": [],
   "source": [
    "from typing import Dict,TypedDict\n",
    "from langgraph.graph import StateGraph"
   ]
  },
  {
   "cell_type": "code",
   "execution_count": 7,
   "metadata": {
    "execution": {
     "iopub.execute_input": "2025-07-02T07:16:40.602386Z",
     "iopub.status.busy": "2025-07-02T07:16:40.602086Z",
     "iopub.status.idle": "2025-07-02T07:16:40.607557Z",
     "shell.execute_reply": "2025-07-02T07:16:40.606351Z",
     "shell.execute_reply.started": "2025-07-02T07:16:40.602364Z"
    }
   },
   "outputs": [],
   "source": [
    "class AgentState(TypedDict): #stateschema\n",
    "    message : str"
   ]
  },
  {
   "cell_type": "code",
   "execution_count": 9,
   "metadata": {
    "execution": {
     "iopub.execute_input": "2025-07-02T07:24:51.248063Z",
     "iopub.status.busy": "2025-07-02T07:24:51.247727Z",
     "iopub.status.idle": "2025-07-02T07:24:51.253897Z",
     "shell.execute_reply": "2025-07-02T07:24:51.252702Z",
     "shell.execute_reply.started": "2025-07-02T07:24:51.248044Z"
    }
   },
   "outputs": [],
   "source": [
    "# need to pass in the input and output the updated state\n",
    "# dock string in langraph are imp -> tells LLM what this functions are for\n",
    "def greet_node(state : AgentState)->AgentState:\n",
    "    \"\"\" Node to add a message \"\"\"\n",
    "    state['message'] = 'Hey ' +state['message']\n",
    "\n",
    "    return state\n",
    "    "
   ]
  },
  {
   "cell_type": "markdown",
   "metadata": {},
   "source": [
    "## Build the graph"
   ]
  },
  {
   "cell_type": "code",
   "execution_count": 10,
   "metadata": {
    "execution": {
     "iopub.execute_input": "2025-07-02T07:24:52.974496Z",
     "iopub.status.busy": "2025-07-02T07:24:52.973437Z",
     "iopub.status.idle": "2025-07-02T07:24:52.981578Z",
     "shell.execute_reply": "2025-07-02T07:24:52.980557Z",
     "shell.execute_reply.started": "2025-07-02T07:24:52.974437Z"
    }
   },
   "outputs": [],
   "source": [
    "graph = StateGraph(AgentState)\n",
    "\n",
    "#adding nodes 2 main params -> name of node and action it performs\n",
    "graph.add_node(\"greeter\",greet_node)\n",
    "\n",
    "graph.set_entry_point(\"greeter\")\n",
    "graph.set_finish_point(\"greeter\")\n",
    "\n",
    "app = graph.compile()"
   ]
  },
  {
   "cell_type": "code",
   "execution_count": 15,
   "metadata": {
    "execution": {
     "iopub.execute_input": "2025-07-02T07:28:06.022157Z",
     "iopub.status.busy": "2025-07-02T07:28:06.021852Z",
     "iopub.status.idle": "2025-07-02T07:28:06.098669Z",
     "shell.execute_reply": "2025-07-02T07:28:06.097826Z",
     "shell.execute_reply.started": "2025-07-02T07:28:06.022137Z"
    }
   },
   "outputs": [
    {
     "data": {
      "image/png": "[encoded data removed]",
      "text/plain": [
       "<IPython.core.display.Image object>"
      ]
     },
     "metadata": {},
     "output_type": "display_data"
    }
   ],
   "source": [
    "from IPython.display import Image,display\n",
    "display(Image(app.get_graph().draw_mermaid_png()))"
   ]
  },
  {
   "cell_type": "code",
   "execution_count": 18,
   "metadata": {
    "execution": {
     "iopub.execute_input": "2025-07-02T07:30:21.489982Z",
     "iopub.status.busy": "2025-07-02T07:30:21.489575Z",
     "iopub.status.idle": "2025-07-02T07:30:21.521092Z",
     "shell.execute_reply": "2025-07-02T07:30:21.520016Z",
     "shell.execute_reply.started": "2025-07-02T07:30:21.489954Z"
    }
   },
   "outputs": [],
   "source": [
    "result = app.invoke({\"message\":\"Parth\"})"
   ]
  },
  {
   "cell_type": "code",
   "execution_count": 19,
   "metadata": {
    "execution": {
     "iopub.execute_input": "2025-07-02T07:30:29.775654Z",
     "iopub.status.busy": "2025-07-02T07:30:29.775209Z",
     "iopub.status.idle": "2025-07-02T07:30:29.782172Z",
     "shell.execute_reply": "2025-07-02T07:30:29.781043Z",
     "shell.execute_reply.started": "2025-07-02T07:30:29.775627Z"
    }
   },
   "outputs": [
    {
     "data": {
      "text/plain": [
       "'Hey Parth'"
      ]
     },
     "execution_count": 19,
     "metadata": {},
     "output_type": "execute_result"
    }
   ],
   "source": [
    "result['message']"
   ]
  },
  {
   "cell_type": "markdown",
   "metadata": {},
   "source": [
    "## Exercise 1 : Personalized Compliment Agent"
   ]
  },
  {
   "cell_type": "markdown",
   "metadata": {},
   "source": [
    "\n",
    "\n",
    "1. Create State Schema\n",
    "2. Create Node\n",
    "3. Build the graph\n",
    "\n"
   ]
  },
  {
   "cell_type": "code",
   "execution_count": 28,
   "metadata": {
    "execution": {
     "iopub.execute_input": "2025-07-02T07:43:14.398344Z",
     "iopub.status.busy": "2025-07-02T07:43:14.397518Z",
     "iopub.status.idle": "2025-07-02T07:43:14.403511Z",
     "shell.execute_reply": "2025-07-02T07:43:14.402487Z",
     "shell.execute_reply.started": "2025-07-02T07:43:14.398312Z"
    }
   },
   "outputs": [],
   "source": [
    "class AgentState(TypedDict):\n",
    "    compliment:str"
   ]
  },
  {
   "cell_type": "code",
   "execution_count": 36,
   "metadata": {
    "execution": {
     "iopub.execute_input": "2025-07-02T07:43:44.640726Z",
     "iopub.status.busy": "2025-07-02T07:43:44.640322Z",
     "iopub.status.idle": "2025-07-02T07:43:44.645574Z",
     "shell.execute_reply": "2025-07-02T07:43:44.644769Z",
     "shell.execute_reply.started": "2025-07-02T07:43:44.640700Z"
    }
   },
   "outputs": [],
   "source": [
    "def compliment(state: AgentState)->AgentState:\n",
    "    state['compliment'] = \"Hey \" + state['compliment'] + \" ! You are doing great\"\n",
    "    return state\n",
    "    "
   ]
  },
  {
   "cell_type": "code",
   "execution_count": 37,
   "metadata": {
    "execution": {
     "iopub.execute_input": "2025-07-02T07:43:45.035314Z",
     "iopub.status.busy": "2025-07-02T07:43:45.034985Z",
     "iopub.status.idle": "2025-07-02T07:43:45.041531Z",
     "shell.execute_reply": "2025-07-02T07:43:45.040415Z",
     "shell.execute_reply.started": "2025-07-02T07:43:45.035292Z"
    }
   },
   "outputs": [],
   "source": [
    "graph = StateGraph(AgentState)\n",
    "\n",
    "graph.add_node(\"complimenter\",compliment)\n",
    "graph.set_entry_point(\"complimenter\")\n",
    "graph.set_finish_point(\"complimenter\")\n",
    "\n",
    "app = graph.compile()"
   ]
  },
  {
   "cell_type": "code",
   "execution_count": 39,
   "metadata": {
    "execution": {
     "iopub.execute_input": "2025-07-02T07:43:56.398187Z",
     "iopub.status.busy": "2025-07-02T07:43:56.397902Z",
     "iopub.status.idle": "2025-07-02T07:43:56.406742Z",
     "shell.execute_reply": "2025-07-02T07:43:56.405883Z",
     "shell.execute_reply.started": "2025-07-02T07:43:56.398168Z"
    }
   },
   "outputs": [
    {
     "data": {
      "text/plain": [
       "{'compliment': 'Hey xyz ! You are doing great'}"
      ]
     },
     "execution_count": 39,
     "metadata": {},
     "output_type": "execute_result"
    }
   ],
   "source": [
    "result = app.invoke({\"compliment\":\"xyz\"})\n",
    "result"
   ]
  },
  {
   "cell_type": "code",
   "execution_count": null,
   "metadata": {},
   "outputs": [],
   "source": []
  },
  {
   "cell_type": "code",
   "execution_count": null,
   "metadata": {},
   "outputs": [],
   "source": []
  },
  {
   "cell_type": "code",
   "execution_count": null,
   "metadata": {},
   "outputs": [],
   "source": []
  }
 ],
 "metadata": {
  "kaggle": {
   "accelerator": "none",
   "dataSources": [],
   "dockerImageVersionId": 31040,
   "isGpuEnabled": false,
   "isInternetEnabled": true,
   "language": "python",
   "sourceType": "notebook"
  },
  "kernelspec": {
   "display_name": "Python 3 (ipykernel)",
   "language": "python",
   "name": "python3"
  },
  "language_info": {
   "codemirror_mode": {
    "name": "ipython",
    "version": 3
   },
   "file_extension": ".py",
   "mimetype": "text/x-python",
   "name": "python",
   "nbconvert_exporter": "python",
   "pygments_lexer": "ipython3",
   "version": "3.10.12"
  }
 },
 "nbformat": 4,
 "nbformat_minor": 4
}
